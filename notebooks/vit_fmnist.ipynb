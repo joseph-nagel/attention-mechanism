{
 "cells": [
  {
   "cell_type": "markdown",
   "id": "f6453a93-940a-4a73-bb7a-692e90dfd9ca",
   "metadata": {},
   "source": [
    "# ViT on Fashion MNIST"
   ]
  },
  {
   "cell_type": "code",
   "execution_count": null,
   "id": "1f5016b9-2325-469e-86f0-cdc3cc03700c",
   "metadata": {},
   "outputs": [],
   "source": [
    "%load_ext autoreload\n",
    "%autoreload 2\n",
    "%matplotlib inline\n",
    "\n",
    "import sys\n",
    "sys.path.append('..')"
   ]
  },
  {
   "cell_type": "code",
   "execution_count": null,
   "id": "b5699f63",
   "metadata": {},
   "outputs": [],
   "source": [
    "import matplotlib.pyplot as plt\n",
    "import torch\n",
    "from lightning.pytorch import Trainer\n",
    "\n",
    "from atttools import (\n",
    "    FashionMNISTDataModule,\n",
    "    ClassifierViT\n",
    ")"
   ]
  },
  {
   "cell_type": "code",
   "execution_count": null,
   "id": "e2296a48-b0cc-4c95-8ae2-196564e4ddf2",
   "metadata": {},
   "outputs": [],
   "source": [
    "_ = torch.manual_seed(1223334444) # set random seed manually"
   ]
  },
  {
   "cell_type": "markdown",
   "id": "57122444",
   "metadata": {},
   "source": [
    "## Fashion MNIST data"
   ]
  },
  {
   "cell_type": "code",
   "execution_count": null,
   "id": "c13c9b29",
   "metadata": {},
   "outputs": [],
   "source": [
    "fmnist = FashionMNISTDataModule(\n",
    "    data_dir='../run/data/',\n",
    "    mean=None,\n",
    "    std=None,\n",
    "    batch_size=32,\n",
    ")\n",
    "\n",
    "fmnist.prepare_data() # download data if not yet done\n",
    "fmnist.setup(stage='test') # create test set"
   ]
  },
  {
   "cell_type": "code",
   "execution_count": null,
   "id": "42328873",
   "metadata": {},
   "outputs": [],
   "source": [
    "test_loader = fmnist.test_dataloader()\n",
    "x_batch, y_batch = next(iter(test_loader))"
   ]
  },
  {
   "cell_type": "code",
   "execution_count": null,
   "id": "5ef007db",
   "metadata": {},
   "outputs": [],
   "source": [
    "class_names = fmnist.test_set.classes\n",
    "\n",
    "fig, axes = plt.subplots(nrows=3, ncols=4, figsize=(5, 4.5))\n",
    "for idx, ax in enumerate(axes.ravel()):\n",
    "    image = x_batch[idx, 0].numpy()\n",
    "    ax.imshow(image, cmap='gray', vmin=0, vmax=1)\n",
    "    ax.set_title(class_names[y_batch[idx]])\n",
    "    ax.set(xticks=[], yticks=[], xlabel='', ylabel='')\n",
    "fig.tight_layout()"
   ]
  },
  {
   "cell_type": "markdown",
   "id": "6dde75c2",
   "metadata": {},
   "source": [
    "## ViT model"
   ]
  },
  {
   "cell_type": "code",
   "execution_count": null,
   "id": "05f9c150",
   "metadata": {},
   "outputs": [],
   "source": [
    "ckpt_file = '../run/fmnist/version_0/checkpoints/best.ckpt'\n",
    "\n",
    "device = torch.device('cuda:0' if torch.cuda.is_available() else 'cpu')\n",
    "\n",
    "vit = ClassifierViT.load_from_checkpoint(ckpt_file)\n",
    "\n",
    "vit = vit.eval()\n",
    "vit = vit.to(device)"
   ]
  },
  {
   "cell_type": "markdown",
   "id": "19cb55ad",
   "metadata": {},
   "source": [
    "## Testing"
   ]
  },
  {
   "cell_type": "code",
   "execution_count": null,
   "id": "ab6d7f1e",
   "metadata": {},
   "outputs": [],
   "source": [
    "trainer = Trainer(logger=False)\n",
    "\n",
    "test_metrics = trainer.test(\n",
    "    model=vit,\n",
    "    dataloaders=test_loader,\n",
    "    verbose=True\n",
    ")"
   ]
  },
  {
   "cell_type": "code",
   "execution_count": null,
   "id": "1a744f4e",
   "metadata": {},
   "outputs": [],
   "source": [
    "confmat = vit.test_confmat.compute().numpy() # assemble confusion matrix\n",
    "norm_confmat = confmat / confmat.sum(axis=1).reshape(-1, 1) # normalize rows"
   ]
  },
  {
   "cell_type": "code",
   "execution_count": null,
   "id": "9305628f",
   "metadata": {},
   "outputs": [],
   "source": [
    "fig, ax = plt.subplots(figsize=(6, 5))\n",
    "img = ax.imshow(\n",
    "    norm_confmat, cmap='viridis', aspect='equal', vmin=0, vmax=1\n",
    ")\n",
    "ax.set(\n",
    "    xlabel='predicted',\n",
    "    ylabel='actual',\n",
    "    xticks=list(range(len(class_names))),\n",
    "    yticks=list(range(len(class_names)))\n",
    ")\n",
    "ax.set_xticklabels(class_names, rotation='vertical')\n",
    "ax.set_yticklabels(class_names, rotation='horizontal')\n",
    "fig.colorbar(img)\n",
    "fig.tight_layout()"
   ]
  }
 ],
 "metadata": {
  "kernelspec": {
   "display_name": "Python 3 (ipykernel)",
   "language": "python",
   "name": "python3"
  },
  "language_info": {
   "codemirror_mode": {
    "name": "ipython",
    "version": 3
   },
   "file_extension": ".py",
   "mimetype": "text/x-python",
   "name": "python",
   "nbconvert_exporter": "python",
   "pygments_lexer": "ipython3",
   "version": "3.11.5"
  }
 },
 "nbformat": 4,
 "nbformat_minor": 5
}
