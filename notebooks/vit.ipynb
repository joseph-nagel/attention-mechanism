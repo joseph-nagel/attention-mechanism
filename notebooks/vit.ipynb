{
 "cells": [
  {
   "cell_type": "markdown",
   "id": "f6453a93-940a-4a73-bb7a-692e90dfd9ca",
   "metadata": {},
   "source": [
    "# ViT on (Fashion) MNIST"
   ]
  },
  {
   "cell_type": "code",
   "execution_count": null,
   "id": "1f5016b9-2325-469e-86f0-cdc3cc03700c",
   "metadata": {},
   "outputs": [],
   "source": [
    "%load_ext autoreload\n",
    "%autoreload 2\n",
    "%matplotlib inline\n",
    "\n",
    "import sys\n",
    "sys.path.append('..')"
   ]
  },
  {
   "cell_type": "code",
   "execution_count": null,
   "id": "b5699f63",
   "metadata": {},
   "outputs": [],
   "source": [
    "import matplotlib.pyplot as plt\n",
    "import torch\n",
    "from lightning.pytorch import Trainer\n",
    "\n",
    "from att_tools import (\n",
    "    MNISTDataModule,\n",
    "    ClassifierViT\n",
    ")"
   ]
  },
  {
   "cell_type": "code",
   "execution_count": null,
   "id": "e2296a48-b0cc-4c95-8ae2-196564e4ddf2",
   "metadata": {},
   "outputs": [],
   "source": [
    "_ = torch.manual_seed(1223334444)  # set random seed manually"
   ]
  },
  {
   "cell_type": "markdown",
   "id": "57122444",
   "metadata": {},
   "source": [
    "## (Fashion) MNIST data"
   ]
  },
  {
   "cell_type": "code",
   "execution_count": null,
   "id": "c13c9b29",
   "metadata": {},
   "outputs": [],
   "source": [
    "data_set = 'mnist'\n",
    "\n",
    "mnist = MNISTDataModule(\n",
    "    data_set=data_set,\n",
    "    data_dir='../run/data/',\n",
    "    mean=0.5,\n",
    "    std=0.5,\n",
    "    batch_size=32\n",
    ")\n",
    "\n",
    "mnist.prepare_data()  # download data if not yet done\n",
    "mnist.setup(stage='test')  # create test set"
   ]
  },
  {
   "cell_type": "code",
   "execution_count": null,
   "id": "42328873",
   "metadata": {},
   "outputs": [],
   "source": [
    "test_loader = mnist.test_dataloader()\n",
    "x_batch, y_batch = next(iter(test_loader))"
   ]
  },
  {
   "cell_type": "code",
   "execution_count": null,
   "id": "5ef007db",
   "metadata": {},
   "outputs": [],
   "source": [
    "class_names = mnist.test_set.classes\n",
    "\n",
    "fig, axes = plt.subplots(nrows=3, ncols=4, figsize=(5, 4.5))\n",
    "for idx, ax in enumerate(axes.ravel()):\n",
    "    image = mnist.renormalize(x_batch[idx, 0]).numpy()\n",
    "    ax.imshow(image, cmap='gray', vmin=0, vmax=1)\n",
    "    ax.set_title(class_names[y_batch[idx]])\n",
    "    ax.set(xticks=[], yticks=[], xlabel='', ylabel='')\n",
    "fig.tight_layout()"
   ]
  },
  {
   "cell_type": "markdown",
   "id": "6dde75c2",
   "metadata": {},
   "source": [
    "## ViT model"
   ]
  },
  {
   "cell_type": "code",
   "execution_count": null,
   "id": "05f9c150",
   "metadata": {},
   "outputs": [],
   "source": [
    "ckpt_file = f'../run/{data_set}/version_0/checkpoints/last.ckpt'\n",
    "\n",
    "device = torch.device('cuda:0' if torch.cuda.is_available() else 'cpu')\n",
    "\n",
    "vit = ClassifierViT.load_from_checkpoint(ckpt_file)\n",
    "\n",
    "vit = vit.eval()\n",
    "vit = vit.to(device)"
   ]
  },
  {
   "cell_type": "markdown",
   "id": "19cb55ad",
   "metadata": {},
   "source": [
    "## Testing"
   ]
  },
  {
   "cell_type": "code",
   "execution_count": null,
   "id": "ab6d7f1e",
   "metadata": {},
   "outputs": [],
   "source": [
    "trainer = Trainer(logger=False)\n",
    "\n",
    "test_metrics = trainer.test(\n",
    "    model=vit,\n",
    "    dataloaders=test_loader,\n",
    "    verbose=True\n",
    ")"
   ]
  },
  {
   "cell_type": "code",
   "execution_count": null,
   "id": "1a744f4e",
   "metadata": {},
   "outputs": [],
   "source": [
    "confmat = vit.test_confmat.compute().numpy()  # assemble confusion matrix\n",
    "norm_confmat = confmat / confmat.sum(axis=1).reshape(-1, 1)  # normalize rows"
   ]
  },
  {
   "cell_type": "code",
   "execution_count": null,
   "id": "9305628f",
   "metadata": {},
   "outputs": [],
   "source": [
    "fig, ax = plt.subplots(figsize=(6, 5))\n",
    "img = ax.imshow(\n",
    "    norm_confmat, cmap='viridis', aspect='equal', vmin=0, vmax=1\n",
    ")\n",
    "ax.set(\n",
    "    xlabel='predicted',\n",
    "    ylabel='actual',\n",
    "    xticks=list(range(len(class_names))),\n",
    "    yticks=list(range(len(class_names)))\n",
    ")\n",
    "ax.set_xticklabels(class_names, rotation='vertical')\n",
    "ax.set_yticklabels(class_names, rotation='horizontal')\n",
    "fig.colorbar(img)\n",
    "fig.tight_layout()"
   ]
  },
  {
   "cell_type": "markdown",
   "id": "76e04b90",
   "metadata": {},
   "source": [
    "## Attention maps"
   ]
  },
  {
   "cell_type": "code",
   "execution_count": null,
   "id": "f4dccb7e",
   "metadata": {},
   "outputs": [],
   "source": [
    "with torch.no_grad():\n",
    "    y, weights = vit(x_batch, return_weights=True)\n",
    "\n",
    "print(f'Attention weights shape: {weights.shape}')"
   ]
  },
  {
   "cell_type": "code",
   "execution_count": null,
   "id": "69191deb",
   "metadata": {},
   "outputs": [],
   "source": [
    "random_ids = torch.randperm(len(x_batch))\n",
    "\n",
    "fig, axes = plt.subplots(nrows=6, ncols=5, figsize=(5, 6))\n",
    "for row_idx in range(axes.shape[0]):\n",
    "    for col_idx in range(axes.shape[1]):\n",
    "        if col_idx == 0:\n",
    "            img = mnist.renormalize(x_batch[random_ids[row_idx], 0]).numpy()\n",
    "            axes[row_idx,col_idx].imshow(img, cmap='gray', vmin=0, vmax=1)\n",
    "        else:\n",
    "            att = weights[random_ids[row_idx], col_idx-1, 0, 1:].view(4, 4).numpy()\n",
    "            axes[row_idx,col_idx].imshow(att, cmap='gray', vmin=0)\n",
    "        axes[row_idx,col_idx].set(xticks=[], yticks=[], xlabel='', ylabel='')\n",
    "fig.tight_layout()"
   ]
  }
 ],
 "metadata": {
  "kernelspec": {
   "display_name": "torch",
   "language": "python",
   "name": "python3"
  },
  "language_info": {
   "codemirror_mode": {
    "name": "ipython",
    "version": 3
   },
   "file_extension": ".py",
   "mimetype": "text/x-python",
   "name": "python",
   "nbconvert_exporter": "python",
   "pygments_lexer": "ipython3",
   "version": "3.12.9"
  }
 },
 "nbformat": 4,
 "nbformat_minor": 5
}
