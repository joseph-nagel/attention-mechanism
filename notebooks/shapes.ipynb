{
 "cells": [
  {
   "cell_type": "markdown",
   "id": "e7adbc8b-ca23-4b9c-80b0-05d2117212de",
   "metadata": {},
   "source": [
    "# Attention shapes"
   ]
  },
  {
   "cell_type": "code",
   "execution_count": null,
   "id": "f1af0d27-735b-419d-a3e4-4879b86caf95",
   "metadata": {},
   "outputs": [],
   "source": [
    "%load_ext autoreload\n",
    "%autoreload 2\n",
    "%matplotlib inline\n",
    "\n",
    "import sys\n",
    "sys.path.append('..')"
   ]
  },
  {
   "cell_type": "code",
   "execution_count": null,
   "id": "183acfcd-5751-497d-b19a-cd63becc69a0",
   "metadata": {},
   "outputs": [],
   "source": [
    "import matplotlib.pyplot as plt\n",
    "import torch\n",
    "import torch.nn as nn\n",
    "\n",
    "from attention import (\n",
    "    attend,\n",
    "    self_attend,\n",
    "    SelfAttention,\n",
    "    SinusoidalEncoding\n",
    ")"
   ]
  },
  {
   "cell_type": "code",
   "execution_count": null,
   "id": "a6ad8712-3aa3-4a3b-8206-166ce0d92ad0",
   "metadata": {},
   "outputs": [],
   "source": [
    "_ = torch.manual_seed(1223334444) # set random seed manually"
   ]
  },
  {
   "cell_type": "markdown",
   "id": "cdecc5f9-3e80-42b3-a709-5458fb2bec63",
   "metadata": {},
   "source": [
    "## Attention"
   ]
  },
  {
   "cell_type": "code",
   "execution_count": null,
   "id": "b8224523-fd19-41f0-85fe-8c0c0d3686c3",
   "metadata": {},
   "outputs": [],
   "source": [
    "# set parameters\n",
    "m = 8\n",
    "n = 9\n",
    "\n",
    "d_q = 20\n",
    "d_k = 15\n",
    "d_v = 10\n",
    "\n",
    "# sample Q, K and V\n",
    "Q = torch.randn(m, d_k)\n",
    "K = torch.randn(n, d_k)\n",
    "V = torch.randn(n, d_v)\n",
    "\n",
    "# compute attention\n",
    "attn = attend(Q, K, V)\n",
    "\n",
    "print(f'Attention shape: {attn.shape}')"
   ]
  },
  {
   "cell_type": "code",
   "execution_count": null,
   "id": "3176b251-2b22-4345-8902-e60203808488",
   "metadata": {},
   "outputs": [],
   "source": [
    "# check against reference implementation\n",
    "ref_attn = nn.functional.scaled_dot_product_attention(Q, K, V)\n",
    "\n",
    "is_close = torch.allclose(attn, ref_attn, atol=1e-05)\n",
    "\n",
    "print(f'Close to reference implementation: {is_close}')"
   ]
  },
  {
   "cell_type": "markdown",
   "id": "d440a113-3084-4f35-85ad-1010670a5912",
   "metadata": {},
   "source": [
    "## Self-attention"
   ]
  },
  {
   "cell_type": "code",
   "execution_count": null,
   "id": "92678c06-76cd-471a-a199-f85bee635de7",
   "metadata": {},
   "outputs": [],
   "source": [
    "# set parameters\n",
    "l = 7\n",
    "\n",
    "d_x = 100\n",
    "d_k = 15\n",
    "d_v = 10\n",
    "\n",
    "# sample X, W_q, W_k and W_v\n",
    "X = torch.randn(l, d_x)\n",
    "\n",
    "W_q = torch.randn(d_x, d_k)\n",
    "W_k = torch.randn(d_x, d_k)\n",
    "W_v = torch.randn(d_x, d_v)\n",
    "\n",
    "# compute self-attention\n",
    "self_attn = self_attend(X, W_q, W_k, W_v)\n",
    "\n",
    "print(f'Self-attention shape: {self_attn.shape}')"
   ]
  },
  {
   "cell_type": "code",
   "execution_count": null,
   "id": "5cf48930-6307-4754-bc6a-3e85da1b83f3",
   "metadata": {},
   "outputs": [],
   "source": [
    "# check against reference implementation\n",
    "ref_self_attn = nn.functional.scaled_dot_product_attention(X @ W_q, X @ W_k, X @ W_v)\n",
    "\n",
    "is_close = torch.allclose(self_attn, ref_self_attn, atol=1e-05)\n",
    "\n",
    "print(f'Close to reference implementation: {is_close}')"
   ]
  },
  {
   "cell_type": "markdown",
   "id": "2090f68f-86f2-403a-90f2-902ce7958719",
   "metadata": {},
   "source": [
    "## Self-attention layer"
   ]
  },
  {
   "cell_type": "code",
   "execution_count": null,
   "id": "b055d92e-afa6-4ea3-b56c-8ba979aacd49",
   "metadata": {},
   "outputs": [],
   "source": [
    "# set parameters\n",
    "d_x = 10\n",
    "d_k = 11\n",
    "d_v = 12\n",
    "\n",
    "seq_length = 25\n",
    "batch_size = 64\n",
    "\n",
    "# initialize layer\n",
    "self_attention = SelfAttention(\n",
    "    d_x=d_x,\n",
    "    d_k=d_k,\n",
    "    d_v=d_v,\n",
    "    scale=True\n",
    ")\n",
    "\n",
    "# sample input sequence\n",
    "X = torch.randn(batch_size, seq_length, d_x)\n",
    "\n",
    "# compute attention\n",
    "self_attn = self_attention(X)\n",
    "\n",
    "print(f'Self-attention shape: {self_attn.shape}')"
   ]
  },
  {
   "cell_type": "markdown",
   "id": "89b24e24-98fc-4e42-a11a-a77cfab99ca0",
   "metadata": {},
   "source": [
    "## Sinusoidal encoding"
   ]
  },
  {
   "cell_type": "code",
   "execution_count": null,
   "id": "32e772b3-203a-49e8-81ed-b1e2fc6621fc",
   "metadata": {},
   "outputs": [],
   "source": [
    "# set parameters\n",
    "max_length = 96\n",
    "embed_dim = 128\n",
    "\n",
    "# initialize encoding\n",
    "sinusoidal_encoding = SinusoidalEncoding(embed_dim=embed_dim)\n",
    "\n",
    "# compute encodings\n",
    "t = torch.arange(max_length).view(-1, 1)\n",
    "enc = sinusoidal_encoding(t)\n",
    "\n",
    "print(f'Encoding shape: {enc.shape}')"
   ]
  },
  {
   "cell_type": "code",
   "execution_count": null,
   "id": "a70c4d6a-e961-4a0d-be98-2328f6d0b687",
   "metadata": {},
   "outputs": [],
   "source": [
    "fig, ax = plt.subplots(figsize=(8, 4))\n",
    "img = ax.imshow(enc.numpy(), cmap='PRGn', aspect='auto', vmin=-1, vmax=1)\n",
    "ax.set(xlabel='embedding dim.', ylabel='position')\n",
    "fig.colorbar(img)\n",
    "fig.tight_layout()"
   ]
  }
 ],
 "metadata": {
  "kernelspec": {
   "display_name": "Python 3 (ipykernel)",
   "language": "python",
   "name": "python3"
  },
  "language_info": {
   "codemirror_mode": {
    "name": "ipython",
    "version": 3
   },
   "file_extension": ".py",
   "mimetype": "text/x-python",
   "name": "python",
   "nbconvert_exporter": "python",
   "pygments_lexer": "ipython3",
   "version": "3.9.18"
  }
 },
 "nbformat": 4,
 "nbformat_minor": 5
}
